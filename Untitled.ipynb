{
 "cells": [
  {
   "cell_type": "code",
   "execution_count": 1,
   "id": "98635242-b462-4e3a-bd11-97f202011f77",
   "metadata": {},
   "outputs": [],
   "source": [
    "from wordcloud import WordCloud\n",
    "import matplotlib.pyplot as plt"
   ]
  },
  {
   "cell_type": "code",
   "execution_count": null,
   "id": "7da67a41-3711-4284-9b63-1d765bef4fa9",
   "metadata": {},
   "outputs": [],
   "source": [
    "wc_text = ' '.join(filtered_words)\n",
    "wc_text"
   ]
  },
  {
   "cell_type": "code",
   "execution_count": 3,
   "id": "abea994e-c0f2-42fa-b719-72da0c76196e",
   "metadata": {},
   "outputs": [],
   "source": [
    "wc = WordCloud(width=800,height=400,background_color='white').generate(rice)\n",
    "plt.figure(figsize=(10,5))\n",
    "plt.imshow(wc)\n",
    "plt.axis('off')\n",
    "plt.show()"
   ]
  }
 ],
 "metadata": {
  "kernelspec": {
   "display_name": "Python 3 (ipykernel)",
   "language": "python",
   "name": "python3"
  },
  "language_info": {
   "codemirror_mode": {
    "name": "ipython",
    "version": 3
   },
   "file_extension": ".py",
   "mimetype": "text/x-python",
   "name": "python",
   "nbconvert_exporter": "python",
   "pygments_lexer": "ipython3",
   "version": "3.12.3"
  }
 },
 "nbformat": 4,
 "nbformat_minor": 5
}
